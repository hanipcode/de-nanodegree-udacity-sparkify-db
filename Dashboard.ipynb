{
 "cells": [
  {
   "cell_type": "markdown",
   "metadata": {
    "editable": true
   },
   "source": [
    "# Data Dashboard\n",
    "This page is about data dashbooard to collect useful insight"
   ]
  },
  {
   "cell_type": "code",
   "execution_count": 49,
   "metadata": {
    "editable": true
   },
   "outputs": [],
   "source": [
    "import os\n",
    "import glob\n",
    "import psycopg2\n",
    "import pandas as pd\n",
    "from datetime import datetime\n",
    "from sql_queries import *\n",
    "\n",
    "conn = psycopg2.connect(\"host=127.0.0.1 dbname=sparkifydb user=student password=student\")\n",
    "cur = conn.cursor()"
   ]
  },
  {
   "cell_type": "markdown",
   "metadata": {
    "editable": true
   },
   "source": [
    "## How much male / female is Listening to Sparkify\n"
   ]
  },
  {
   "cell_type": "markdown",
   "metadata": {
    "editable": true
   },
   "source": [
    "lets try to findout"
   ]
  },
  {
   "cell_type": "code",
   "execution_count": 62,
   "metadata": {
    "editable": true
   },
   "outputs": [
    {
     "data": {
      "text/html": [
       "<div>\n",
       "<style scoped>\n",
       "    .dataframe tbody tr th:only-of-type {\n",
       "        vertical-align: middle;\n",
       "    }\n",
       "\n",
       "    .dataframe tbody tr th {\n",
       "        vertical-align: top;\n",
       "    }\n",
       "\n",
       "    .dataframe thead th {\n",
       "        text-align: right;\n",
       "    }\n",
       "</style>\n",
       "<table border=\"1\" class=\"dataframe\">\n",
       "  <thead>\n",
       "    <tr style=\"text-align: right;\">\n",
       "      <th></th>\n",
       "      <th>Gender</th>\n",
       "      <th>Count</th>\n",
       "    </tr>\n",
       "  </thead>\n",
       "  <tbody>\n",
       "    <tr>\n",
       "      <th>0</th>\n",
       "      <td>Male</td>\n",
       "      <td>1933 Users</td>\n",
       "    </tr>\n",
       "    <tr>\n",
       "      <th>1</th>\n",
       "      <td>Female</td>\n",
       "      <td>4887 Users</td>\n",
       "    </tr>\n",
       "  </tbody>\n",
       "</table>\n",
       "</div>"
      ],
      "text/plain": [
       "   Gender       Count\n",
       "0    Male  1933 Users\n",
       "1  Female  4887 Users"
      ]
     },
     "execution_count": 62,
     "metadata": {},
     "output_type": "execute_result"
    }
   ],
   "source": [
    "get_gender_query = \"SELECT gender, COUNT(gender) from users GROUP BY users.gender\"\n",
    "cur.execute(get_gender_query)\n",
    "user_genders = cur.fetchall()\n",
    "df = pd.DataFrame(user_genders, columns=[\"Gender\", \"Count\"])\n",
    "df[\"Gender\"] = df[\"Gender\"].map({ \"M\": \"Male\", \"F\": \"Female\" })\n",
    "df[\"Count\"] = df[\"Count\"].astype(str) + \" Users\"\n",
    "df"
   ]
  },
  {
   "cell_type": "markdown",
   "metadata": {
    "editable": true
   },
   "source": [
    "## The distribution of user level"
   ]
  },
  {
   "cell_type": "code",
   "execution_count": 61,
   "metadata": {
    "editable": true
   },
   "outputs": [
    {
     "data": {
      "text/html": [
       "<div>\n",
       "<style scoped>\n",
       "    .dataframe tbody tr th:only-of-type {\n",
       "        vertical-align: middle;\n",
       "    }\n",
       "\n",
       "    .dataframe tbody tr th {\n",
       "        vertical-align: top;\n",
       "    }\n",
       "\n",
       "    .dataframe thead th {\n",
       "        text-align: right;\n",
       "    }\n",
       "</style>\n",
       "<table border=\"1\" class=\"dataframe\">\n",
       "  <thead>\n",
       "    <tr style=\"text-align: right;\">\n",
       "      <th></th>\n",
       "      <th>Level</th>\n",
       "      <th>Count</th>\n",
       "    </tr>\n",
       "  </thead>\n",
       "  <tbody>\n",
       "    <tr>\n",
       "      <th>0</th>\n",
       "      <td>free</td>\n",
       "      <td>1229 Users</td>\n",
       "    </tr>\n",
       "    <tr>\n",
       "      <th>1</th>\n",
       "      <td>paid</td>\n",
       "      <td>5591 Users</td>\n",
       "    </tr>\n",
       "  </tbody>\n",
       "</table>\n",
       "</div>"
      ],
      "text/plain": [
       "  Level       Count\n",
       "0  free  1229 Users\n",
       "1  paid  5591 Users"
      ]
     },
     "execution_count": 61,
     "metadata": {},
     "output_type": "execute_result"
    }
   ],
   "source": [
    "get_level_query = \"SELECT level, Count(level) from users GROUP BY users.level\"\n",
    "cur.execute(get_level_query)\n",
    "user_levels = cur.fetchall()\n",
    "df = pd.DataFrame(user_levels, columns=[\"Level\", \"Count\"])\n",
    "df[\"Count\"] = df[\"Count\"].astype(str) + \" Users\"\n",
    "df"
   ]
  },
  {
   "cell_type": "markdown",
   "metadata": {
    "editable": true
   },
   "source": [
    "## TOP 10 ARTIST Listened"
   ]
  },
  {
   "cell_type": "code",
   "execution_count": 57,
   "metadata": {
    "editable": true
   },
   "outputs": [
    {
     "data": {
      "text/html": [
       "<div>\n",
       "<style scoped>\n",
       "    .dataframe tbody tr th:only-of-type {\n",
       "        vertical-align: middle;\n",
       "    }\n",
       "\n",
       "    .dataframe tbody tr th {\n",
       "        vertical-align: top;\n",
       "    }\n",
       "\n",
       "    .dataframe thead th {\n",
       "        text-align: right;\n",
       "    }\n",
       "</style>\n",
       "<table border=\"1\" class=\"dataframe\">\n",
       "  <thead>\n",
       "    <tr style=\"text-align: right;\">\n",
       "      <th></th>\n",
       "      <th>Artist Id</th>\n",
       "      <th>Artist Name</th>\n",
       "      <th>Num Played</th>\n",
       "    </tr>\n",
       "  </thead>\n",
       "  <tbody>\n",
       "    <tr>\n",
       "      <th>0</th>\n",
       "      <td>ARPFHN61187FB575F6</td>\n",
       "      <td>Lupe Fiasco</td>\n",
       "      <td>5</td>\n",
       "    </tr>\n",
       "    <tr>\n",
       "      <th>1</th>\n",
       "      <td>ARBEBBY1187B9B43DB</td>\n",
       "      <td>Tom Petty</td>\n",
       "      <td>4</td>\n",
       "    </tr>\n",
       "    <tr>\n",
       "      <th>2</th>\n",
       "      <td>ARIK43K1187B9AE54C</td>\n",
       "      <td>Lionel Richie</td>\n",
       "      <td>4</td>\n",
       "    </tr>\n",
       "    <tr>\n",
       "      <th>3</th>\n",
       "      <td>AR558FS1187FB45658</td>\n",
       "      <td>40 Grit</td>\n",
       "      <td>3</td>\n",
       "    </tr>\n",
       "    <tr>\n",
       "      <th>4</th>\n",
       "      <td>ARQGYP71187FB44566</td>\n",
       "      <td>Jimmy Wakely</td>\n",
       "      <td>1</td>\n",
       "    </tr>\n",
       "    <tr>\n",
       "      <th>5</th>\n",
       "      <td>ARJIE2Y1187B994AB7</td>\n",
       "      <td>Line Renaud</td>\n",
       "      <td>1</td>\n",
       "    </tr>\n",
       "    <tr>\n",
       "      <th>6</th>\n",
       "      <td>ARXR32B1187FB57099</td>\n",
       "      <td>Gob</td>\n",
       "      <td>1</td>\n",
       "    </tr>\n",
       "    <tr>\n",
       "      <th>7</th>\n",
       "      <td>ARVBRGZ1187FB4675A</td>\n",
       "      <td>Gwen Stefani</td>\n",
       "      <td>1</td>\n",
       "    </tr>\n",
       "    <tr>\n",
       "      <th>8</th>\n",
       "      <td>ARKULSX1187FB45F84</td>\n",
       "      <td>Trafik</td>\n",
       "      <td>1</td>\n",
       "    </tr>\n",
       "    <tr>\n",
       "      <th>9</th>\n",
       "      <td>ARD842G1187B997376</td>\n",
       "      <td>Blue Rodeo</td>\n",
       "      <td>1</td>\n",
       "    </tr>\n",
       "  </tbody>\n",
       "</table>\n",
       "</div>"
      ],
      "text/plain": [
       "            Artist Id    Artist Name  Num Played\n",
       "0  ARPFHN61187FB575F6    Lupe Fiasco           5\n",
       "1  ARBEBBY1187B9B43DB      Tom Petty           4\n",
       "2  ARIK43K1187B9AE54C  Lionel Richie           4\n",
       "3  AR558FS1187FB45658        40 Grit           3\n",
       "4  ARQGYP71187FB44566   Jimmy Wakely           1\n",
       "5  ARJIE2Y1187B994AB7    Line Renaud           1\n",
       "6  ARXR32B1187FB57099            Gob           1\n",
       "7  ARVBRGZ1187FB4675A   Gwen Stefani           1\n",
       "8  ARKULSX1187FB45F84         Trafik           1\n",
       "9  ARD842G1187B997376     Blue Rodeo           1"
      ]
     },
     "execution_count": 57,
     "metadata": {},
     "output_type": "execute_result"
    }
   ],
   "source": [
    "most_listened_artist_query = \"\"\"\n",
    "SELECT songplays.artist_id, artists.name, COUNT(songplays.artist_id) as played_count\n",
    "FROM songplays JOIN artists on songplays.artist_id = artists.artist_id\n",
    "GROUP BY songplays.artist_id, artists.name\n",
    "ORDER BY played_count DESC\n",
    "LIMIT 10\n",
    "\"\"\"\n",
    "cur.execute(most_listened_artist_query)\n",
    "most_listened_artist = cur.fetchall()\n",
    "df = pd.DataFrame(most_listened_artist, columns=[\"Artist Id\", \"Artist Name\", \"Num Played\"])\n",
    "df"
   ]
  },
  {
   "cell_type": "markdown",
   "metadata": {
    "editable": true
   },
   "source": [
    "## TOP 10 songs listened"
   ]
  },
  {
   "cell_type": "code",
   "execution_count": 56,
   "metadata": {
    "editable": true
   },
   "outputs": [
    {
     "data": {
      "text/html": [
       "<div>\n",
       "<style scoped>\n",
       "    .dataframe tbody tr th:only-of-type {\n",
       "        vertical-align: middle;\n",
       "    }\n",
       "\n",
       "    .dataframe tbody tr th {\n",
       "        vertical-align: top;\n",
       "    }\n",
       "\n",
       "    .dataframe thead th {\n",
       "        text-align: right;\n",
       "    }\n",
       "</style>\n",
       "<table border=\"1\" class=\"dataframe\">\n",
       "  <thead>\n",
       "    <tr style=\"text-align: right;\">\n",
       "      <th></th>\n",
       "      <th>Song Id</th>\n",
       "      <th>Artist Name</th>\n",
       "      <th>Song Title</th>\n",
       "      <th>Num Played</th>\n",
       "    </tr>\n",
       "  </thead>\n",
       "  <tbody>\n",
       "    <tr>\n",
       "      <th>0</th>\n",
       "      <td>SOWQTQZ12A58A7B63E</td>\n",
       "      <td>Lupe Fiasco</td>\n",
       "      <td>Streets On Fire (Explicit Album Version)</td>\n",
       "      <td>5</td>\n",
       "    </tr>\n",
       "    <tr>\n",
       "      <th>1</th>\n",
       "      <td>SOBONFF12A6D4F84D8</td>\n",
       "      <td>Lionel Richie</td>\n",
       "      <td>Tonight Will Be Alright</td>\n",
       "      <td>4</td>\n",
       "    </tr>\n",
       "    <tr>\n",
       "      <th>2</th>\n",
       "      <td>SOFFKZS12AB017F194</td>\n",
       "      <td>Tom Petty</td>\n",
       "      <td>A Higher Place (Album Version)</td>\n",
       "      <td>4</td>\n",
       "    </tr>\n",
       "    <tr>\n",
       "      <th>3</th>\n",
       "      <td>SOGDBUF12A8C140FAA</td>\n",
       "      <td>40 Grit</td>\n",
       "      <td>Intro</td>\n",
       "      <td>3</td>\n",
       "    </tr>\n",
       "    <tr>\n",
       "      <th>4</th>\n",
       "      <td>SOFSOCN12A8C143F5D</td>\n",
       "      <td>Gob</td>\n",
       "      <td>Face the Ashes</td>\n",
       "      <td>1</td>\n",
       "    </tr>\n",
       "    <tr>\n",
       "      <th>5</th>\n",
       "      <td>SONWXQJ12A8C134D94</td>\n",
       "      <td>Sophie B. Hawkins</td>\n",
       "      <td>The Ballad Of Sleeping Beauty</td>\n",
       "      <td>1</td>\n",
       "    </tr>\n",
       "    <tr>\n",
       "      <th>6</th>\n",
       "      <td>SOQVMXR12A81C21483</td>\n",
       "      <td>Trafik</td>\n",
       "      <td>Salt In NYC</td>\n",
       "      <td>1</td>\n",
       "    </tr>\n",
       "    <tr>\n",
       "      <th>7</th>\n",
       "      <td>SOZCTXZ12AB0182364</td>\n",
       "      <td>Elena</td>\n",
       "      <td>Setanta matins</td>\n",
       "      <td>1</td>\n",
       "    </tr>\n",
       "    <tr>\n",
       "      <th>8</th>\n",
       "      <td>SOUPIRU12A6D4FA1E1</td>\n",
       "      <td>Line Renaud</td>\n",
       "      <td>Der Kleine Dompfaff</td>\n",
       "      <td>1</td>\n",
       "    </tr>\n",
       "    <tr>\n",
       "      <th>9</th>\n",
       "      <td>SOWTBJW12AC468AC6E</td>\n",
       "      <td>Jimmy Wakely</td>\n",
       "      <td>Broken-Down Merry-Go-Round</td>\n",
       "      <td>1</td>\n",
       "    </tr>\n",
       "  </tbody>\n",
       "</table>\n",
       "</div>"
      ],
      "text/plain": [
       "              Song Id        Artist Name  \\\n",
       "0  SOWQTQZ12A58A7B63E        Lupe Fiasco   \n",
       "1  SOBONFF12A6D4F84D8      Lionel Richie   \n",
       "2  SOFFKZS12AB017F194          Tom Petty   \n",
       "3  SOGDBUF12A8C140FAA            40 Grit   \n",
       "4  SOFSOCN12A8C143F5D                Gob   \n",
       "5  SONWXQJ12A8C134D94  Sophie B. Hawkins   \n",
       "6  SOQVMXR12A81C21483             Trafik   \n",
       "7  SOZCTXZ12AB0182364              Elena   \n",
       "8  SOUPIRU12A6D4FA1E1        Line Renaud   \n",
       "9  SOWTBJW12AC468AC6E       Jimmy Wakely   \n",
       "\n",
       "                                 Song Title  Num Played  \n",
       "0  Streets On Fire (Explicit Album Version)           5  \n",
       "1                   Tonight Will Be Alright           4  \n",
       "2            A Higher Place (Album Version)           4  \n",
       "3                                     Intro           3  \n",
       "4                            Face the Ashes           1  \n",
       "5             The Ballad Of Sleeping Beauty           1  \n",
       "6                               Salt In NYC           1  \n",
       "7                            Setanta matins           1  \n",
       "8                       Der Kleine Dompfaff           1  \n",
       "9                Broken-Down Merry-Go-Round           1  "
      ]
     },
     "execution_count": 56,
     "metadata": {},
     "output_type": "execute_result"
    }
   ],
   "source": [
    "most_listened_song_query = \"\"\"\n",
    "SELECT songplays.song_id, artists.name, songs.title,  COUNT(songplays.song_id) as played_count\n",
    "FROM songplays \n",
    "JOIN songs on songplays.song_id = songs.song_id\n",
    "JOIN artists on songplays.artist_id = artists.artist_id\n",
    "GROUP BY songplays.song_id, songs.title, artists.name\n",
    "ORDER BY played_count DESC\n",
    "LIMIT 10\n",
    "\"\"\"\n",
    "cur.execute(most_listened_song_query)\n",
    "most_listened_song = cur.fetchall()\n",
    "df = pd.DataFrame(most_listened_song, columns=[\"Song Id\", \"Artist Name\", \"Song Title\", \"Num Played\"])\n",
    "df"
   ]
  },
  {
   "cell_type": "markdown",
   "metadata": {
    "editable": true
   },
   "source": [
    "## Type of user agent user used to listened\n",
    "can be used to determine if user use desktop / mobile"
   ]
  },
  {
   "cell_type": "code",
   "execution_count": 60,
   "metadata": {
    "editable": true
   },
   "outputs": [
    {
     "data": {
      "text/html": [
       "<div>\n",
       "<style scoped>\n",
       "    .dataframe tbody tr th:only-of-type {\n",
       "        vertical-align: middle;\n",
       "    }\n",
       "\n",
       "    .dataframe tbody tr th {\n",
       "        vertical-align: top;\n",
       "    }\n",
       "\n",
       "    .dataframe thead th {\n",
       "        text-align: right;\n",
       "    }\n",
       "</style>\n",
       "<table border=\"1\" class=\"dataframe\">\n",
       "  <thead>\n",
       "    <tr style=\"text-align: right;\">\n",
       "      <th></th>\n",
       "      <th>User Agent</th>\n",
       "      <th>Num of Users</th>\n",
       "    </tr>\n",
       "  </thead>\n",
       "  <tbody>\n",
       "    <tr>\n",
       "      <th>0</th>\n",
       "      <td>\"Mozilla/5.0 (Macintosh; Intel Mac OS X 10_9_4...</td>\n",
       "      <td>971</td>\n",
       "    </tr>\n",
       "    <tr>\n",
       "      <th>1</th>\n",
       "      <td>\"Mozilla/5.0 (Macintosh; Intel Mac OS X 10_9_4...</td>\n",
       "      <td>708</td>\n",
       "    </tr>\n",
       "    <tr>\n",
       "      <th>2</th>\n",
       "      <td>Mozilla/5.0 (Windows NT 5.1; rv:31.0) Gecko/20...</td>\n",
       "      <td>696</td>\n",
       "    </tr>\n",
       "    <tr>\n",
       "      <th>3</th>\n",
       "      <td>\"Mozilla/5.0 (X11; Linux x86_64) AppleWebKit/5...</td>\n",
       "      <td>577</td>\n",
       "    </tr>\n",
       "    <tr>\n",
       "      <th>4</th>\n",
       "      <td>\"Mozilla/5.0 (X11; Linux x86_64) AppleWebKit/5...</td>\n",
       "      <td>573</td>\n",
       "    </tr>\n",
       "    <tr>\n",
       "      <th>5</th>\n",
       "      <td>Mozilla/5.0 (Macintosh; Intel Mac OS X 10.9; r...</td>\n",
       "      <td>443</td>\n",
       "    </tr>\n",
       "    <tr>\n",
       "      <th>6</th>\n",
       "      <td>\"Mozilla/5.0 (Windows NT 6.3; WOW64) AppleWebK...</td>\n",
       "      <td>427</td>\n",
       "    </tr>\n",
       "    <tr>\n",
       "      <th>7</th>\n",
       "      <td>\"Mozilla/5.0 (Windows NT 6.1; WOW64) AppleWebK...</td>\n",
       "      <td>419</td>\n",
       "    </tr>\n",
       "    <tr>\n",
       "      <th>8</th>\n",
       "      <td>\"Mozilla/5.0 (Macintosh; Intel Mac OS X 10_9_4...</td>\n",
       "      <td>319</td>\n",
       "    </tr>\n",
       "    <tr>\n",
       "      <th>9</th>\n",
       "      <td>Mozilla/5.0 (Windows NT 6.1; WOW64; rv:31.0) G...</td>\n",
       "      <td>310</td>\n",
       "    </tr>\n",
       "    <tr>\n",
       "      <th>10</th>\n",
       "      <td>\"Mozilla/5.0 (Windows NT 5.1) AppleWebKit/537....</td>\n",
       "      <td>259</td>\n",
       "    </tr>\n",
       "    <tr>\n",
       "      <th>11</th>\n",
       "      <td>\"Mozilla/5.0 (iPhone; CPU iPhone OS 7_1_2 like...</td>\n",
       "      <td>228</td>\n",
       "    </tr>\n",
       "    <tr>\n",
       "      <th>12</th>\n",
       "      <td>\"Mozilla/5.0 (Macintosh; Intel Mac OS X 10_10_...</td>\n",
       "      <td>179</td>\n",
       "    </tr>\n",
       "    <tr>\n",
       "      <th>13</th>\n",
       "      <td>\"Mozilla/5.0 (Windows NT 6.3; WOW64) AppleWebK...</td>\n",
       "      <td>148</td>\n",
       "    </tr>\n",
       "    <tr>\n",
       "      <th>14</th>\n",
       "      <td>\"Mozilla/5.0 (Macintosh; Intel Mac OS X 10_9_4...</td>\n",
       "      <td>111</td>\n",
       "    </tr>\n",
       "    <tr>\n",
       "      <th>15</th>\n",
       "      <td>\"Mozilla/5.0 (Macintosh; Intel Mac OS X 10_9_3...</td>\n",
       "      <td>87</td>\n",
       "    </tr>\n",
       "    <tr>\n",
       "      <th>16</th>\n",
       "      <td>Mozilla/5.0 (Macintosh; Intel Mac OS X 10.9; r...</td>\n",
       "      <td>72</td>\n",
       "    </tr>\n",
       "    <tr>\n",
       "      <th>17</th>\n",
       "      <td>\"Mozilla/5.0 (Macintosh; Intel Mac OS X 10_9_4...</td>\n",
       "      <td>45</td>\n",
       "    </tr>\n",
       "    <tr>\n",
       "      <th>18</th>\n",
       "      <td>Mozilla/5.0 (Windows NT 6.1; WOW64; rv:32.0) G...</td>\n",
       "      <td>30</td>\n",
       "    </tr>\n",
       "    <tr>\n",
       "      <th>19</th>\n",
       "      <td>\"Mozilla/5.0 (Windows NT 6.1; WOW64) AppleWebK...</td>\n",
       "      <td>27</td>\n",
       "    </tr>\n",
       "  </tbody>\n",
       "</table>\n",
       "</div>"
      ],
      "text/plain": [
       "                                           User Agent  Num of Users\n",
       "0   \"Mozilla/5.0 (Macintosh; Intel Mac OS X 10_9_4...           971\n",
       "1   \"Mozilla/5.0 (Macintosh; Intel Mac OS X 10_9_4...           708\n",
       "2   Mozilla/5.0 (Windows NT 5.1; rv:31.0) Gecko/20...           696\n",
       "3   \"Mozilla/5.0 (X11; Linux x86_64) AppleWebKit/5...           577\n",
       "4   \"Mozilla/5.0 (X11; Linux x86_64) AppleWebKit/5...           573\n",
       "5   Mozilla/5.0 (Macintosh; Intel Mac OS X 10.9; r...           443\n",
       "6   \"Mozilla/5.0 (Windows NT 6.3; WOW64) AppleWebK...           427\n",
       "7   \"Mozilla/5.0 (Windows NT 6.1; WOW64) AppleWebK...           419\n",
       "8   \"Mozilla/5.0 (Macintosh; Intel Mac OS X 10_9_4...           319\n",
       "9   Mozilla/5.0 (Windows NT 6.1; WOW64; rv:31.0) G...           310\n",
       "10  \"Mozilla/5.0 (Windows NT 5.1) AppleWebKit/537....           259\n",
       "11  \"Mozilla/5.0 (iPhone; CPU iPhone OS 7_1_2 like...           228\n",
       "12  \"Mozilla/5.0 (Macintosh; Intel Mac OS X 10_10_...           179\n",
       "13  \"Mozilla/5.0 (Windows NT 6.3; WOW64) AppleWebK...           148\n",
       "14  \"Mozilla/5.0 (Macintosh; Intel Mac OS X 10_9_4...           111\n",
       "15  \"Mozilla/5.0 (Macintosh; Intel Mac OS X 10_9_3...            87\n",
       "16  Mozilla/5.0 (Macintosh; Intel Mac OS X 10.9; r...            72\n",
       "17  \"Mozilla/5.0 (Macintosh; Intel Mac OS X 10_9_4...            45\n",
       "18  Mozilla/5.0 (Windows NT 6.1; WOW64; rv:32.0) G...            30\n",
       "19  \"Mozilla/5.0 (Windows NT 6.1; WOW64) AppleWebK...            27"
      ]
     },
     "execution_count": 60,
     "metadata": {},
     "output_type": "execute_result"
    }
   ],
   "source": [
    "most_user_agent_query = \"\"\"\n",
    "SELECT songplays.user_agent, COUNT(songplays.user_agent) as total FROM songplays GROUP BY  songplays.user_agent\n",
    "ORDER BY total DESC\n",
    "LIMIT 20\n",
    "\"\"\"\n",
    "cur.execute(most_user_agent_query)\n",
    "most_user_agent = cur.fetchall()\n",
    "df = pd.DataFrame(most_user_agent, columns=[\"User Agent\", \"Num of Users\"])\n",
    "df"
   ]
  },
  {
   "cell_type": "markdown",
   "metadata": {
    "editable": true
   },
   "source": [
    "## Num Of Active User\n",
    "How much user is actually listened to a song ??"
   ]
  },
  {
   "cell_type": "code",
   "execution_count": 54,
   "metadata": {
    "editable": true
   },
   "outputs": [
    {
     "data": {
      "text/html": [
       "<div>\n",
       "<style scoped>\n",
       "    .dataframe tbody tr th:only-of-type {\n",
       "        vertical-align: middle;\n",
       "    }\n",
       "\n",
       "    .dataframe tbody tr th {\n",
       "        vertical-align: top;\n",
       "    }\n",
       "\n",
       "    .dataframe thead th {\n",
       "        text-align: right;\n",
       "    }\n",
       "</style>\n",
       "<table border=\"1\" class=\"dataframe\">\n",
       "  <thead>\n",
       "    <tr style=\"text-align: right;\">\n",
       "      <th></th>\n",
       "      <th>Total Active user</th>\n",
       "    </tr>\n",
       "  </thead>\n",
       "  <tbody>\n",
       "    <tr>\n",
       "      <th>0</th>\n",
       "      <td>96</td>\n",
       "    </tr>\n",
       "  </tbody>\n",
       "</table>\n",
       "</div>"
      ],
      "text/plain": [
       "   Total Active user\n",
       "0                 96"
      ]
     },
     "execution_count": 54,
     "metadata": {},
     "output_type": "execute_result"
    }
   ],
   "source": [
    "active_user_query = \"\"\"\n",
    "SELECT COUNT(*)\n",
    "FROM songplays RIGHT JOIN users on songplays.user_id = users.user_id\n",
    "GROUP BY songplays.user_id\n",
    "\"\"\"\n",
    "cur.execute(active_user_query)\n",
    "active_user = cur.fetchall()\n",
    "df = pd.DataFrame([len(active_user)], columns=[\"Total Active user\"])\n",
    "df"
   ]
  },
  {
   "cell_type": "markdown",
   "metadata": {
    "editable": true
   },
   "source": [
    "## The most active user"
   ]
  },
  {
   "cell_type": "code",
   "execution_count": 65,
   "metadata": {
    "editable": true
   },
   "outputs": [
    {
     "data": {
      "text/html": [
       "<div>\n",
       "<style scoped>\n",
       "    .dataframe tbody tr th:only-of-type {\n",
       "        vertical-align: middle;\n",
       "    }\n",
       "\n",
       "    .dataframe tbody tr th {\n",
       "        vertical-align: top;\n",
       "    }\n",
       "\n",
       "    .dataframe thead th {\n",
       "        text-align: right;\n",
       "    }\n",
       "</style>\n",
       "<table border=\"1\" class=\"dataframe\">\n",
       "  <thead>\n",
       "    <tr style=\"text-align: right;\">\n",
       "      <th></th>\n",
       "      <th>User ID</th>\n",
       "      <th>First Name</th>\n",
       "      <th>Last Name</th>\n",
       "      <th>Total SongPlayed</th>\n",
       "    </tr>\n",
       "  </thead>\n",
       "  <tbody>\n",
       "    <tr>\n",
       "      <th>0</th>\n",
       "      <td>49</td>\n",
       "      <td>Chloe</td>\n",
       "      <td>Cuevas</td>\n",
       "      <td>474721</td>\n",
       "    </tr>\n",
       "    <tr>\n",
       "      <th>1</th>\n",
       "      <td>80</td>\n",
       "      <td>Tegan</td>\n",
       "      <td>Levine</td>\n",
       "      <td>442225</td>\n",
       "    </tr>\n",
       "    <tr>\n",
       "      <th>2</th>\n",
       "      <td>97</td>\n",
       "      <td>Kate</td>\n",
       "      <td>Harrell</td>\n",
       "      <td>310249</td>\n",
       "    </tr>\n",
       "    <tr>\n",
       "      <th>3</th>\n",
       "      <td>15</td>\n",
       "      <td>Lily</td>\n",
       "      <td>Koch</td>\n",
       "      <td>214369</td>\n",
       "    </tr>\n",
       "    <tr>\n",
       "      <th>4</th>\n",
       "      <td>44</td>\n",
       "      <td>Aleena</td>\n",
       "      <td>Kirby</td>\n",
       "      <td>157609</td>\n",
       "    </tr>\n",
       "    <tr>\n",
       "      <th>5</th>\n",
       "      <td>29</td>\n",
       "      <td>Jacqueline</td>\n",
       "      <td>Lynch</td>\n",
       "      <td>119716</td>\n",
       "    </tr>\n",
       "    <tr>\n",
       "      <th>6</th>\n",
       "      <td>24</td>\n",
       "      <td>Layla</td>\n",
       "      <td>Griffin</td>\n",
       "      <td>103041</td>\n",
       "    </tr>\n",
       "    <tr>\n",
       "      <th>7</th>\n",
       "      <td>73</td>\n",
       "      <td>Jacob</td>\n",
       "      <td>Klein</td>\n",
       "      <td>83521</td>\n",
       "    </tr>\n",
       "    <tr>\n",
       "      <th>8</th>\n",
       "      <td>88</td>\n",
       "      <td>Mohammad</td>\n",
       "      <td>Rodriguez</td>\n",
       "      <td>72900</td>\n",
       "    </tr>\n",
       "    <tr>\n",
       "      <th>9</th>\n",
       "      <td>36</td>\n",
       "      <td>Matthew</td>\n",
       "      <td>Jones</td>\n",
       "      <td>61504</td>\n",
       "    </tr>\n",
       "  </tbody>\n",
       "</table>\n",
       "</div>"
      ],
      "text/plain": [
       "   User ID  First Name  Last Name  Total SongPlayed\n",
       "0       49       Chloe     Cuevas            474721\n",
       "1       80       Tegan     Levine            442225\n",
       "2       97        Kate    Harrell            310249\n",
       "3       15        Lily       Koch            214369\n",
       "4       44      Aleena      Kirby            157609\n",
       "5       29  Jacqueline      Lynch            119716\n",
       "6       24       Layla    Griffin            103041\n",
       "7       73       Jacob      Klein             83521\n",
       "8       88    Mohammad  Rodriguez             72900\n",
       "9       36     Matthew      Jones             61504"
      ]
     },
     "execution_count": 65,
     "metadata": {},
     "output_type": "execute_result"
    }
   ],
   "source": [
    "most_active_user_query = \"\"\"\n",
    "SELECT songplays.user_id, users.first_name, users.last_name, COUNT(songplays.user_id) as total\n",
    "FROM songplays RIGHT JOIN users on songplays.user_id = users.user_id\n",
    "GROUP BY songplays.user_id, users.first_name, users.last_name\n",
    "ORDER BY total DESC\n",
    "LIMIT 10\n",
    "\"\"\"\n",
    "cur.execute(most_active_user_query)\n",
    "most_active_user = cur.fetchall()\n",
    "df = pd.DataFrame(most_active_user, columns=[\"User ID\", \"First Name\", \"Last Name\", \"Total SongPlayed\"])\n",
    "df"
   ]
  },
  {
   "cell_type": "code",
   "execution_count": null,
   "metadata": {
    "editable": true
   },
   "outputs": [],
   "source": []
  }
 ],
 "metadata": {
  "kernelspec": {
   "display_name": "Python 3",
   "language": "python",
   "name": "python3"
  },
  "language_info": {
   "codemirror_mode": {
    "name": "ipython",
    "version": 3
   },
   "file_extension": ".py",
   "mimetype": "text/x-python",
   "name": "python",
   "nbconvert_exporter": "python",
   "pygments_lexer": "ipython3",
   "version": "3.6.3"
  }
 },
 "nbformat": 4,
 "nbformat_minor": 4
}
